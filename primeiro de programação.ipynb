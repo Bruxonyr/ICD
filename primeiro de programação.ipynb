{
 "cells": [
  {
   "cell_type": "markdown",
   "metadata": {},
   "source": [
    "#Primeiro exercício de programação "
   ]
  },
  {
   "cell_type": "code",
   "execution_count": null,
   "metadata": {},
   "outputs": [],
   "source": [
    "top_10 = [\"Tones and I - Dance Monkey\", \"Lady Gaga, Ariana Grande - Rain on Me\",\n",
    "          \"Justin Bieber - Yummy\", \"MISCHO - Photon Love\", \"Dua Lipa - Break My Heart\",\n",
    "          \"Lady Gaga, BLACKPINK - Sour Candy\", \"Dua Lipa - Don't Start Now\",\n",
    "          \"Justin Bieber, Quavo - Intentions\", \"Doja Cat - Say So\",\n",
    "          \"Karol G, Nicki Minaj - Tusa\", \"Benee, Gus Dapperton - Supalonely\"]"
   ]
  },
  {
   "cell_type": "code",
   "execution_count": 46,
   "metadata": {},
   "outputs": [],
   "source": [
    "\n",
    "def get_songs():\n",
    "     for x in top_10:\n",
    "               songs = [{\"song\":x.split(\" - \")[1]}]\n",
    "               print(songs)"
   ]
  },
  {
   "cell_type": "code",
   "execution_count": 47,
   "metadata": {},
   "outputs": [
    {
     "name": "stdout",
     "output_type": "stream",
     "text": [
      "[{'song': 'Dance Monkey'}]\n",
      "[{'song': 'Rain on Me'}]\n",
      "[{'song': 'Yummy'}]\n",
      "[{'song': 'Photon Love'}]\n",
      "[{'song': 'Break My Heart'}]\n",
      "[{'song': 'Sour Candy'}]\n",
      "[{'song': \"Don't Start Now\"}]\n",
      "[{'song': 'Intentions'}]\n",
      "[{'song': 'Say So'}]\n",
      "[{'song': 'Tusa'}]\n",
      "[{'song': 'Supalonely'}]\n"
     ]
    }
   ],
   "source": [
    "get_songs()"
   ]
  },
  {
   "cell_type": "code",
   "execution_count": 52,
   "metadata": {},
   "outputs": [],
   "source": [
    "\n",
    "def get_artists():\n",
    "    for x in top_10:\n",
    "              artists = [{\"artist\":x.split(\" - \")[0]}]\n",
    "              print(artists)"
   ]
  },
  {
   "cell_type": "code",
   "execution_count": 53,
   "metadata": {},
   "outputs": [
    {
     "name": "stdout",
     "output_type": "stream",
     "text": [
      "[{'artist': 'Tones and I'}]\n",
      "[{'artist': 'Lady Gaga, Ariana Grande'}]\n",
      "[{'artist': 'Justin Bieber'}]\n",
      "[{'artist': 'MISCHO'}]\n",
      "[{'artist': 'Dua Lipa'}]\n",
      "[{'artist': 'Lady Gaga, BLACKPINK'}]\n",
      "[{'artist': 'Dua Lipa'}]\n",
      "[{'artist': 'Justin Bieber, Quavo'}]\n",
      "[{'artist': 'Doja Cat'}]\n",
      "[{'artist': 'Karol G, Nicki Minaj'}]\n",
      "[{'artist': 'Benee, Gus Dapperton'}]\n"
     ]
    }
   ],
   "source": [
    "get_artists()"
   ]
  },
  {
   "cell_type": "code",
   "execution_count": null,
   "metadata": {},
   "outputs": [],
   "source": []
  }
 ],
 "metadata": {
  "kernelspec": {
   "display_name": "Python 3",
   "language": "python",
   "name": "python3"
  },
  "language_info": {
   "codemirror_mode": {
    "name": "ipython",
    "version": 3
   },
   "file_extension": ".py",
   "mimetype": "text/x-python",
   "name": "python",
   "nbconvert_exporter": "python",
   "pygments_lexer": "ipython3",
   "version": "3.7.6"
  }
 },
 "nbformat": 4,
 "nbformat_minor": 4
}
