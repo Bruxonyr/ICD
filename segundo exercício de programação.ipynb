{
 "cells": [
  {
   "cell_type": "markdown",
   "metadata": {},
   "source": [
    "# Segundo exercício de programação "
   ]
  },
  {
   "cell_type": "code",
   "execution_count": 2,
   "metadata": {},
   "outputs": [],
   "source": [
    "import random as rd"
   ]
  },
  {
   "cell_type": "code",
   "execution_count": 45,
   "metadata": {},
   "outputs": [],
   "source": [
    "def generate_password(n_chars, use_numbers, use_special_chars):\n",
    "        caracters = '0123456789,abcdefghijlmnopqrstuwvxz'\n",
    "        senha = ''\n",
    "        for char in range(n_chars):\n",
    "            if use_numbers == True and use_special_chars == False :\n",
    "                numbers_pass = caracters.split(\",\")[0]\n",
    "                senha += rd.choice(numbers_pass)\n",
    "            elif use_numbers == True and use_special_chars==True :\n",
    "                senha += rd.choice(caracters)\n",
    "            elif  use_special_chars==True and use_numbers == False :\n",
    "                 numbers_pass = caracters.split(\",\")[1]\n",
    "                 senha += rd.choice(numbers_pass)\n",
    "        print(senha)"
   ]
  },
  {
   "cell_type": "code",
   "execution_count": 47,
   "metadata": {},
   "outputs": [
    {
     "name": "stdout",
     "output_type": "stream",
     "text": [
      "pw7vrshtc7\n",
      "cighptwqww\n",
      "1015600700\n",
      "\n"
     ]
    }
   ],
   "source": [
    "generate_password(10, True,True)\n",
    "generate_password(10, False, True)\n",
    "generate_password(10, True, False)\n",
    "generate_password(10, False, False)"
   ]
  }
 ],
 "metadata": {
  "kernelspec": {
   "display_name": "Python 3",
   "language": "python",
   "name": "python3"
  },
  "language_info": {
   "codemirror_mode": {
    "name": "ipython",
    "version": 3
   },
   "file_extension": ".py",
   "mimetype": "text/x-python",
   "name": "python",
   "nbconvert_exporter": "python",
   "pygments_lexer": "ipython3",
   "version": "3.7.6"
  }
 },
 "nbformat": 4,
 "nbformat_minor": 4
}
